{
 "cells": [
  {
   "cell_type": "markdown",
   "id": "f3428f18-6b75-4354-91f9-3685ba6f9fa0",
   "metadata": {},
   "source": [
    "# The Missing Semester: Git"
   ]
  },
  {
   "cell_type": "markdown",
   "id": "67ee6b2a-7deb-46fc-8831-7823e49f5b5f",
   "metadata": {},
   "source": [
    "Se trata de un sistema de control de versiones, permite mantener un historial sobre los cambios de un archivo (asi como el perpetrador de cada cambio) y facilita la colaboracion.\n",
    "\n",
    "**Nota:** Este notebook asume que el lector es familiar con los terminos de Git: branch, commit, merge y repositorio"
   ]
  },
  {
   "cell_type": "markdown",
   "id": "214ffc8b-7ef4-4295-a258-a11c54eebce1",
   "metadata": {
    "tags": []
   },
   "source": [
    "Git esta basado en arboles dirigidos y arboles, estos ultimos son una variante particular de grafos no dirigidos en la cual dos vertices se conectan por *exactamente un* camino o arista (es decir, se trata de un grafo sin ciclos). Vale la pena recalcar que un bosque es un grafo no dirigido cuyos vertices estan conectados por *a lo sumo o maximo* un camino o arista, es decir que un bosque puede ser visto como una coleccion de arboles que pueden estar desconectados o conectados entre si por a lo sumo un vertice. Un arbol dirigido es un grafo dirigido que resulta siendo un arbol al remover la direccion de sus aristas.\n",
    "\n",
    "Un arbol dirigido:\n",
    "![alt text](polytree.png \"Arbol dirigido\")\n",
    "\n",
    "Es importante mencionar esto porque, a pesar de que Git esta basadso en arboles dirigidos de teoria de grafos, en Git tambien se usa el termino de \"arbol\" para referirse a directorios dentro de su modelo de datos."
   ]
  },
  {
   "cell_type": "markdown",
   "id": "0034f162-8068-4b64-884f-e38971186efd",
   "metadata": {},
   "source": [
    "# Modelo de datos\n",
    "\n",
    "## Snapshots\n",
    "\n",
    "Como se menciono anteriormente, git utiliza un modelo de datos en el cual se le llama arbol a un directorio (una carpeta) y se denomina blob a cualquier archivo dentro de un arbol. Un arbol realmente sirve para mapear nombres a blobs y a otros arboles, de tal manera que un arbol puede contener a mas arboles. Por ejemplo:\n",
    "\n",
    "    <root> (tree)  \n",
    "    |  \n",
    "    +- foo (tree)  \n",
    "    |  |  \n",
    "    |  + bar.txt (blob, contents = \"hello world\")  \n",
    "    |  \n",
    "    +- baz.txt (blob, contents = \"git is wonderful\")  \n",
    "    \n",
    "Se puede apreciar como una carpeta llamada root es el arbol principal, el cual contiene al arbol foo y al blog baz.txt. Dentro del arbol foo podemos encontrar el archivo bar.txt.\n",
    "\n",
    "\n",
    "Sin embargo, el arbol raiz, en el ejemplo anterior es literalmente el arbol llamado root, es de particular mencion porque es el arbol sobre el cual se hace el control de versionamiento (es decir, este arbol y sus contenidos, ignorando a sus padres y a los demas arboles que se encuentran en el mismo nivel, son los que rastrea el sistema de versiones de Git) y estos arboles son denominados *snapshots* (pueden imaginarse como fotos).\n",
    "\n",
    "Cuando se hace un *commit* de Git, realmente lo que se esta haciendo es crear un snapshot, diciendole a Git \"toma una foto a mis archivos en este preciso instante\".\n",
    "\n",
    "## Arbol dirigido como historial de snapshots\n",
    "\n",
    "Los snapshots son una coleccion de arboles y blobs bajo un solo arbol principal, pero esto es basicamente cualquier carpeta dentro de un sistema de archivos, lo que hace a Git un sistema de version de controles es que git guarda un snapshot y lo relaciona con un otro snapshot que representa el estado previo de los archivos, de tal manera que para una serie de snapshots, se crea un arbol dirigido (de teoria de grafos) en donde cada vertice es un snapshot y la direccion de cada arista apunta al vertice directamente anterior en el tiempo, por ejemplo:\n",
    "\n",
    "        o <-- o <-- o <-- o\n",
    "        Notar que cada o es un vertice (snapshot) en un arbol dirigido\n",
    "\n",
    "El `o` que se encuentra mas a la derecha es el ultimo snapshot, o commit, en una serie de cuatro snapshots, recordando siempre que la flecha apunta a su predecesor directo (es decir, la flecha apunta hacia *atras* en el tiempo).\n",
    "\n",
    "Claro, el ejemplo anterior es sencillo porque se trata de una serie de snapshots lineales, pero en git existen *branches*, permitiendo que un snapshot tenga mas de un solo predecesor en el tiempo, de la siguiente manera:\n",
    "\n",
    "    o <-- o <-- o <-- o <---- o\n",
    "                ^            /\n",
    "                 \\          v\n",
    "                  --- o <-- o\n",
    "              \n",
    "Siendo esto la representacion de un *merge* entre dos branches, donde el `o` mas a la derecha es el mas reciente y es el descendiente directo de dos vertices distintos.\n",
    "\n",
    "## Objetos, content-addresing y referencias\n",
    "\n",
    "Para Git, cada blob, arbol o snapshot es un *objeto*. Cada objeto en Git es direccionado por su contenido (content-addressed). Esto quiere decir que a cada objeto se le asigna una direccion unica definida por su SHA-1 (Secure Hash Algorithm) Hash segun su contenido y luego almacena un mapeo de archivo a SHA-1 Hash. Esto tiene una serie de ventajas como:\n",
    "\n",
    "1. Deteccion de duplicados: Un archivo puede ser copiado multiples veces en un solo snapshot, a Git no le importa porque no almacena el archivo tres veces, simplemente hace referencia al mismo hash tres veces. Cuando un archivo cambia de arbol (pasa de una carpeta a otra), su SHA-1 no cambia, por lo que Git puede darse cuenta del movimiento sin rescribir nada, simplemente apuntando el hash al lugar correcto. La eliminacion de un archivo en un snapshot y la creacion de un archivo identico no genera mas overhead de almacenamiento en Git, debido a que el archivo ya se conoce y se puede encontrar en un snapshot previo.\n",
    "1. Se encuentran diferencias o cambios rapidamente, es suficiente con verificar que el SHA-1 no sea el mismo para dos objetos de mismo nombre para darse cuenta de que estos objetos son distintos.\n",
    "\n",
    "Git, teniendo una manera sencilla para identificar a cada objeto a traves de su SHA-1 Hash, tambien puede identificar a cada snapshot bajo algun nombre conveniente como \"master\", \"main\" o \"cool_new_feature\", de tal manera que un humano sea capaz de leer y entender en que snapshot se encuentra trabajando (este snapshot en particular, el \"activo\" se denomina HEAD), esta asignacion de hash a snapshot se denomina referencia.\n",
    "\n",
    "### Repositorios\n",
    "\n",
    "Un repositorio es la coleccion de objetos y referencias sobre las cuales Git ha estado rastreando cambios. Un usuario que interactua con Git interactua con el repositorio de Git, es decir que realmente la utilizacion de comandos como \"commit\" o \"add\" se transforman en una actualizacion de los objetos y referencias del repositorio y Git mantiene el control de estos cambios.\n",
    "\n",
    "## Staging Area\n",
    "Algo particularmente util de Git es la presencia de la denominada Staging Area. Realmente esta sirve como una especie de \"carrito de compras\" de cambios, es decir que un usuario puede, por ejemplo, seleccionar que partes especificas del directorio de trabaja seran almacenadas durante el commit (la toma de la foto, o el snapshot) y dejar el resto de cambios como impercibibles en la foto. La utilidad de esto es que permite que un usuario, por necesidad o cualquier otro motivo, trabaje en dos features simultaneamente y que, a la hora de hacer un commit, no tenga que hacer un solo commit para ambas features sino que puede separar y elegir a mano que cambios especificamente son los que entraran en un commit, ignorando el resto. De esta manera un desarrollador puede separar de manera mas limpia la implementacion de dos o mas features en cuantos commits requiera."
   ]
  },
  {
   "cell_type": "markdown",
   "id": "b11de5c9-23f5-4ac4-bf74-f3dc92fca9d4",
   "metadata": {},
   "source": [
    "# Ejemplos"
   ]
  },
  {
   "cell_type": "markdown",
   "id": "d56d974e-fcbd-40fd-bc43-7f973de7ee6a",
   "metadata": {},
   "source": [
    "El comando git help nos da una lista de comandos utilies y sus funciones"
   ]
  },
  {
   "cell_type": "code",
   "execution_count": 1,
   "id": "345d4724-908c-423f-8d49-51887cebf5f4",
   "metadata": {},
   "outputs": [
    {
     "data": {
      "text/plain": [
       "['usage: git [--version] [--help] [-C <path>] [-c <name>=<value>]',\n",
       " '           [--exec-path[=<path>]] [--html-path] [--man-path] [--info-path]',\n",
       " '           [-p | --paginate | -P | --no-pager] [--no-replace-objects] [--bare]',\n",
       " '           [--git-dir=<path>] [--work-tree=<path>] [--namespace=<name>]',\n",
       " '           [--super-prefix=<path>] [--config-env=<name>=<envvar>]',\n",
       " '           <command> [<args>]',\n",
       " '',\n",
       " 'These are common Git commands used in various situations:',\n",
       " '',\n",
       " 'start a working area (see also: git help tutorial)',\n",
       " '   clone     Clone a repository into a new directory',\n",
       " '   init      Create an empty Git repository or reinitialize an existing one',\n",
       " '',\n",
       " 'work on the current change (see also: git help everyday)',\n",
       " '   add       Add file contents to the index',\n",
       " '   mv        Move or rename a file, a directory, or a symlink',\n",
       " '   restore   Restore working tree files',\n",
       " '   rm        Remove files from the working tree and from the index',\n",
       " '',\n",
       " 'examine the history and state (see also: git help revisions)',\n",
       " '   bisect    Use binary search to find the commit that introduced a bug',\n",
       " '   diff      Show changes between commits, commit and working tree, etc',\n",
       " '   grep      Print lines matching a pattern',\n",
       " '   log       Show commit logs',\n",
       " '   show      Show various types of objects',\n",
       " '   status    Show the working tree status',\n",
       " '',\n",
       " 'grow, mark and tweak your common history',\n",
       " '   branch    List, create, or delete branches',\n",
       " '   commit    Record changes to the repository',\n",
       " '   merge     Join two or more development histories together',\n",
       " '   rebase    Reapply commits on top of another base tip',\n",
       " '   reset     Reset current HEAD to the specified state',\n",
       " '   switch    Switch branches',\n",
       " '   tag       Create, list, delete or verify a tag object signed with GPG',\n",
       " '',\n",
       " 'collaborate (see also: git help workflows)',\n",
       " '   fetch     Download objects and refs from another repository',\n",
       " '   pull      Fetch from and integrate with another repository or a local branch',\n",
       " '   push      Update remote refs along with associated objects',\n",
       " '',\n",
       " \"'git help -a' and 'git help -g' list available subcommands and some\",\n",
       " \"concept guides. See 'git help <command>' or 'git help <concept>'\",\n",
       " 'to read about a specific subcommand or concept.',\n",
       " \"See 'git help git' for an overview of the system.\"]"
      ]
     },
     "execution_count": 1,
     "metadata": {},
     "output_type": "execute_result"
    }
   ],
   "source": [
    "!!git"
   ]
  },
  {
   "cell_type": "markdown",
   "id": "b50f993f-d567-408a-894e-5e2d2c222c0b",
   "metadata": {},
   "source": [
    "Los branches son particularmente utiles para desarrollar features en paralelo o cuando se esta colaborando con mas personas porque los cambios son independientes. Veamos que branches existen en este repositorio:"
   ]
  },
  {
   "cell_type": "code",
   "execution_count": 2,
   "id": "a7b64ac8-8772-4d96-a550-cf03509734d1",
   "metadata": {},
   "outputs": [
    {
     "name": "stdout",
     "output_type": "stream",
     "text": [
      "* master\n",
      "  prueba\n"
     ]
    }
   ],
   "source": [
    "!git branch"
   ]
  },
  {
   "cell_type": "markdown",
   "id": "f2893106-55bb-48b6-b281-abcd087afb6d",
   "metadata": {},
   "source": [
    "Podemos ver que existen dos branches, master y prueba. El asterisco al lado de master indica que el branch actual es master, veamos sus contenidos:"
   ]
  },
  {
   "cell_type": "code",
   "execution_count": 3,
   "id": "8dccf88d-abed-44f1-a44d-6447833bac6f",
   "metadata": {},
   "outputs": [
    {
     "name": "stdout",
     "output_type": "stream",
     "text": [
      ".gitignore\n",
      "Git.ipynb\n",
      "polytree.png\n"
     ]
    }
   ],
   "source": [
    "!git ls-files"
   ]
  },
  {
   "cell_type": "markdown",
   "id": "29512b8b-da20-40d8-8913-b50ff8ad962d",
   "metadata": {},
   "source": [
    "Unicamente dos archivos, este mismo notebook y una imagen, cambiemos al otro branch y veamos que contiene"
   ]
  },
  {
   "cell_type": "code",
   "execution_count": 4,
   "id": "dd79987c-c6d5-4ad8-8a39-883227c8a8a2",
   "metadata": {},
   "outputs": [
    {
     "name": "stdout",
     "output_type": "stream",
     "text": [
      "M\tGit.ipynb\n",
      "Your branch is up to date with 'origin/prueba'.\n"
     ]
    },
    {
     "name": "stderr",
     "output_type": "stream",
     "text": [
      "Switched to branch 'prueba'\n"
     ]
    }
   ],
   "source": [
    "!git checkout prueba"
   ]
  },
  {
   "cell_type": "code",
   "execution_count": 5,
   "id": "dc7987d0-d3ad-4f72-bc9a-1de83cb3785c",
   "metadata": {},
   "outputs": [
    {
     "name": "stdout",
     "output_type": "stream",
     "text": [
      "  master\n",
      "* prueba\n"
     ]
    }
   ],
   "source": [
    "!git branch"
   ]
  },
  {
   "cell_type": "code",
   "execution_count": 6,
   "id": "d805da7c-7861-406f-9bd1-6b4699a85516",
   "metadata": {},
   "outputs": [
    {
     "name": "stdout",
     "output_type": "stream",
     "text": [
      "Git.ipynb\n",
      "hola mundo.txt\n",
      "polytree.png\n"
     ]
    }
   ],
   "source": [
    "!git ls-files"
   ]
  },
  {
   "cell_type": "markdown",
   "id": "18cde1ac-f303-4634-a36c-d51f9aafcda9",
   "metadata": {},
   "source": [
    "Se puede notar que el branch prueba contiene un archivo adicional, \"hola mundo.txt\", el cual no existe en el branch master. Un ejemplo de como los cambios de un branch no afectan al otro.\n",
    "\n",
    "Seria interesante ver que branch es el que tiene cambios mas recientes:"
   ]
  },
  {
   "cell_type": "code",
   "execution_count": 7,
   "id": "000222e0-911a-47cc-8a45-e1e33ec6b221",
   "metadata": {},
   "outputs": [
    {
     "name": "stdout",
     "output_type": "stream",
     "text": [
      "* commit 2467b937ae27dfc40d4c7b9148b2dd851b9e8074 (origin/master, master)\n",
      "| Author: H0CHM31573R <yancosr@rocketmail.com>\n",
      "| Date:   Tue Feb 8 20:32:57 2022 -0600\n",
      "| \n",
      "|     added gitignore\n",
      "|   \n",
      "| * commit 65d6b6641afc236ad3a64e810a18e72202372f4c (HEAD -> prueba, origin/prueba)\n",
      "|/  Author: H0CHM31573R <yancosr@rocketmail.com>\n",
      "|   Date:   Tue Feb 8 20:17:49 2022 -0600\n",
      "|   \n",
      "|       Added hola mundo text file to exemplify branches\n",
      "| \n",
      "* commit ef76c5841ab08d797facd62e2998989fbbe71b5f\n",
      "  Author: H0CHM31573R <yancosr@rocketmail.com>\n",
      "  Date:   Tue Feb 8 19:55:11 2022 -0600\n",
      "  \n",
      "      Resumen creado\n"
     ]
    }
   ],
   "source": [
    "!git log --all --graph --decorate"
   ]
  },
  {
   "cell_type": "markdown",
   "id": "6c59c5a3-76a5-497e-955d-e44f94dcc3ff",
   "metadata": {},
   "source": [
    "Regresemos a master"
   ]
  },
  {
   "cell_type": "code",
   "execution_count": 8,
   "id": "6f664751-6d37-4af0-be28-33520e49848b",
   "metadata": {},
   "outputs": [
    {
     "name": "stdout",
     "output_type": "stream",
     "text": [
      "M\tGit.ipynb\n",
      "Your branch is up to date with 'origin/master'.\n"
     ]
    },
    {
     "name": "stderr",
     "output_type": "stream",
     "text": [
      "Switched to branch 'master'\n"
     ]
    }
   ],
   "source": [
    "!git checkout master"
   ]
  },
  {
   "cell_type": "markdown",
   "id": "33c5e2c6-1138-4926-a39d-e59f7371209d",
   "metadata": {},
   "source": [
    "Realicemos un cambio al branch"
   ]
  },
  {
   "cell_type": "code",
   "execution_count": 9,
   "id": "45412a91-6a51-46c5-9a28-cb5644d692a2",
   "metadata": {},
   "outputs": [],
   "source": [
    "!echo \"un terrible error\" > cool_feature.txt"
   ]
  },
  {
   "cell_type": "code",
   "execution_count": 10,
   "id": "96e19b87-27df-4e69-83e9-2fb5b10d6e0c",
   "metadata": {},
   "outputs": [
    {
     "name": "stdout",
     "output_type": "stream",
     "text": [
      "On branch master\n",
      "Your branch is up to date with 'origin/master'.\n",
      "\n",
      "Changes not staged for commit:\n",
      "  (use \"git add <file>...\" to update what will be committed)\n",
      "  (use \"git restore <file>...\" to discard changes in working directory)\n",
      "\tmodified:   Git.ipynb\n",
      "\n",
      "Untracked files:\n",
      "  (use \"git add <file>...\" to include in what will be committed)\n",
      "\tcool_feature.txt\n",
      "\n",
      "no changes added to commit (use \"git add\" and/or \"git commit -a\")\n"
     ]
    }
   ],
   "source": [
    "!git status"
   ]
  },
  {
   "cell_type": "markdown",
   "id": "9c175d07-928d-4ab0-b654-d8c34975263f",
   "metadata": {},
   "source": [
    "Podemos observar que nuestro cool_feature.txt fue detectado como un cambio, asi que lo agregaremos a nuestro branch master"
   ]
  },
  {
   "cell_type": "code",
   "execution_count": 11,
   "id": "21f4fa4d-2c49-48c2-acd9-53b30a789e00",
   "metadata": {},
   "outputs": [],
   "source": [
    "!git add cool_feature.txt"
   ]
  },
  {
   "cell_type": "code",
   "execution_count": 12,
   "id": "3ac0072c-602b-4e10-9167-e3a44ff7d411",
   "metadata": {},
   "outputs": [
    {
     "name": "stdout",
     "output_type": "stream",
     "text": [
      "On branch master\n",
      "Your branch is up to date with 'origin/master'.\n",
      "\n",
      "Changes to be committed:\n",
      "  (use \"git restore --staged <file>...\" to unstage)\n",
      "\tnew file:   cool_feature.txt\n",
      "\n",
      "Changes not staged for commit:\n",
      "  (use \"git add <file>...\" to update what will be committed)\n",
      "  (use \"git restore <file>...\" to discard changes in working directory)\n",
      "\tmodified:   Git.ipynb\n",
      "\n"
     ]
    }
   ],
   "source": [
    "!git status"
   ]
  },
  {
   "cell_type": "markdown",
   "id": "7bcc333d-c02a-47bd-b2b9-5f6cf57f39a9",
   "metadata": {},
   "source": [
    "Podemos ver que el archivo cool_feature.txt sera incluido en un commit, asi que hagamos un commit"
   ]
  },
  {
   "cell_type": "code",
   "execution_count": 13,
   "id": "714b3ffc-a3ce-4faa-ac16-69baf7bb7386",
   "metadata": {},
   "outputs": [
    {
     "name": "stdout",
     "output_type": "stream",
     "text": [
      "[master 36b8fcf] Adding a cool new feature\n",
      " 1 file changed, 1 insertion(+)\n",
      " create mode 100644 cool_feature.txt\n"
     ]
    }
   ],
   "source": [
    "!git commit -m \"Adding a cool new feature\""
   ]
  },
  {
   "cell_type": "code",
   "execution_count": 14,
   "id": "bfc11ab7-a555-4a43-8cc6-111ce29bb653",
   "metadata": {},
   "outputs": [
    {
     "name": "stdout",
     "output_type": "stream",
     "text": [
      "On branch master\n",
      "Your branch is ahead of 'origin/master' by 1 commit.\n",
      "  (use \"git push\" to publish your local commits)\n",
      "\n",
      "Changes not staged for commit:\n",
      "  (use \"git add <file>...\" to update what will be committed)\n",
      "  (use \"git restore <file>...\" to discard changes in working directory)\n",
      "\tmodified:   Git.ipynb\n",
      "\n",
      "no changes added to commit (use \"git add\" and/or \"git commit -a\")\n"
     ]
    }
   ],
   "source": [
    "!git status"
   ]
  },
  {
   "cell_type": "markdown",
   "id": "412679f3-8dc9-4b64-a3ab-ea8b5a5a67f4",
   "metadata": {},
   "source": [
    "Sucede que justo en este momento hemos recibido una llamada, la implementacion de cool new feature no solamente es innecesaria sino que es indeseada, por suerte podemos resolver este problema al resetear el staging area"
   ]
  },
  {
   "cell_type": "code",
   "execution_count": 15,
   "id": "47684bcd-4d4c-4c31-b644-9f07eaa023cd",
   "metadata": {},
   "outputs": [
    {
     "name": "stdout",
     "output_type": "stream",
     "text": [
      "Unstaged changes after reset:\n",
      "M\tGit.ipynb\n"
     ]
    }
   ],
   "source": [
    "!git reset HEAD~"
   ]
  },
  {
   "cell_type": "code",
   "execution_count": 16,
   "id": "951c6134-17e0-4a3a-8940-43c602a7e6bb",
   "metadata": {},
   "outputs": [
    {
     "name": "stdout",
     "output_type": "stream",
     "text": [
      "On branch master\n",
      "Your branch is up to date with 'origin/master'.\n",
      "\n",
      "Changes not staged for commit:\n",
      "  (use \"git add <file>...\" to update what will be committed)\n",
      "  (use \"git restore <file>...\" to discard changes in working directory)\n",
      "\tmodified:   Git.ipynb\n",
      "\n",
      "Untracked files:\n",
      "  (use \"git add <file>...\" to include in what will be committed)\n",
      "\tcool_feature.txt\n",
      "\n",
      "no changes added to commit (use \"git add\" and/or \"git commit -a\")\n"
     ]
    }
   ],
   "source": [
    "!git status"
   ]
  },
  {
   "cell_type": "markdown",
   "id": "ccfe0e6c-7450-4204-822c-ae3cfcef354f",
   "metadata": {},
   "source": [
    "Podemos ver que cool_feature ya no esta siendo tomado en cuenta, basicamente acabamos de resetear el staging area al estado de HEAD.\n",
    "\n",
    "En retrospectiva nos podemos dar cuenta de que implementar cool_feature hubiese sido un terrible error, de hecho es algo vergonzoso, asi que eliminaremos la evidencia:"
   ]
  },
  {
   "cell_type": "code",
   "execution_count": 17,
   "id": "87ad5375-4106-40b6-b10c-502ca51d7da3",
   "metadata": {},
   "outputs": [],
   "source": [
    "import os\n",
    "os.remove(\"cool_feature.txt\")"
   ]
  },
  {
   "cell_type": "markdown",
   "id": "168f43d5-00b7-41f1-bc46-d3ed4d8250af",
   "metadata": {},
   "source": [
    "Listo!"
   ]
  }
 ],
 "metadata": {
  "kernelspec": {
   "display_name": "Python 3 (ipykernel)",
   "language": "python",
   "name": "python3"
  },
  "language_info": {
   "codemirror_mode": {
    "name": "ipython",
    "version": 3
   },
   "file_extension": ".py",
   "mimetype": "text/x-python",
   "name": "python",
   "nbconvert_exporter": "python",
   "pygments_lexer": "ipython3",
   "version": "3.9.7"
  }
 },
 "nbformat": 4,
 "nbformat_minor": 5
}
