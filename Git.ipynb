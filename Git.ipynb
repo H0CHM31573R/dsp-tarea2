{
 "cells": [
  {
   "cell_type": "markdown",
   "id": "f3428f18-6b75-4354-91f9-3685ba6f9fa0",
   "metadata": {},
   "source": [
    "# The Missing Semester: Git"
   ]
  },
  {
   "cell_type": "markdown",
   "id": "67ee6b2a-7deb-46fc-8831-7823e49f5b5f",
   "metadata": {},
   "source": [
    "Se trata de un sistema de control de versiones, permite mantener un historial sobre los cambios de un archivo (asi como el perpetrador de cada cambio) y facilita la colaboracion.\n",
    "\n",
    "**Nota:** Este notebook asume que el lector es familiar con los terminos de Git: branch, commit, merge y repositorio"
   ]
  },
  {
   "cell_type": "markdown",
   "id": "214ffc8b-7ef4-4295-a258-a11c54eebce1",
   "metadata": {
    "tags": []
   },
   "source": [
    "Git esta basado en arboles dirigidos y arboles, estos ultimos son una variante particular de grafos no dirigidos en la cual dos vertices se conectan por *exactamente un* camino o arista (es decir, se trata de un grafo sin ciclos). Vale la pena recalcar que un bosque es un grafo no dirigido cuyos vertices estan conectados por *a lo sumo o maximo* un camino o arista, es decir que un bosque puede ser visto como una coleccion de arboles que pueden estar desconectados o conectados entre si por a lo sumo un vertice. Un arbol dirigido es un grafo dirigido que resulta siendo un arbol al remover la direccion de sus aristas.\n",
    "\n",
    "Un arbol dirigido:\n",
    "![alt text](polytree.png \"Arbol dirigido\")\n",
    "\n",
    "Es importante mencionar esto porque, a pesar de que Git esta basadso en arboles dirigidos de teoria de grafos, en Git tambien se usa el termino de \"arbol\" para referirse a directorios dentro de su modelo de datos."
   ]
  },
  {
   "cell_type": "markdown",
   "id": "0034f162-8068-4b64-884f-e38971186efd",
   "metadata": {},
   "source": [
    "# Modelo de datos\n",
    "\n",
    "## Snapshots\n",
    "\n",
    "Como se menciono anteriormente, git utiliza un modelo de datos en el cual se le llama arbol a un directorio (una carpeta) y se denomina blob a cualquier archivo dentro de un arbol. Un arbol realmente sirve para mapear nombres a blobs y a otros arboles, de tal manera que un arbol puede contener a mas arboles. Por ejemplo:\n",
    "\n",
    "    <root> (tree)  \n",
    "    |  \n",
    "    +- foo (tree)  \n",
    "    |  |  \n",
    "    |  + bar.txt (blob, contents = \"hello world\")  \n",
    "    |  \n",
    "    +- baz.txt (blob, contents = \"git is wonderful\")  \n",
    "    \n",
    "Se puede apreciar como una carpeta llamada root es el arbol principal, el cual contiene al arbol foo y al blog baz.txt. Dentro del arbol foo podemos encontrar el archivo bar.txt.\n",
    "\n",
    "\n",
    "Sin embargo, el arbol raiz, en el ejemplo anterior es literalmente el arbol llamado root, es de particular mencion porque es el arbol sobre el cual se hace el control de versionamiento (es decir, este arbol y sus contenidos, ignorando a sus padres y a los demas arboles que se encuentran en el mismo nivel, son los que rastrea el sistema de versiones de Git) y estos arboles son denominados *snapshots* (pueden imaginarse como fotos).\n",
    "\n",
    "Cuando se hace un *commit* de Git, realmente lo que se esta haciendo es crear un snapshot, diciendole a Git \"toma una foto a mis archivos en este preciso instante\".\n",
    "\n",
    "## Arbol dirigido como historial de snapshots\n",
    "\n",
    "Los snapshots son una coleccion de arboles y blobs bajo un solo arbol principal, pero esto es basicamente cualquier carpeta dentro de un sistema de archivos, lo que hace a Git un sistema de version de controles es que git guarda un snapshot y lo relaciona con un otro snapshot que representa el estado previo de los archivos, de tal manera que para una serie de snapshots, se crea un arbol dirigido (de teoria de grafos) en donde cada vertice es un snapshot y la direccion de cada arista apunta al vertice directamente anterior en el tiempo, por ejemplo:\n",
    "\n",
    "        o <-- o <-- o <-- o\n",
    "        Notar que cada o es un vertice (snapshot) en un arbol dirigido\n",
    "\n",
    "El `o` que se encuentra mas a la derecha es el ultimo snapshot, o commit, en una serie de cuatro snapshots, recordando siempre que la flecha apunta a su predecesor directo (es decir, la flecha apunta hacia *atras* en el tiempo).\n",
    "\n",
    "Claro, el ejemplo anterior es sencillo porque se trata de una serie de snapshots lineales, pero en git existen *branches*, permitiendo que un snapshot tenga mas de un solo predecesor en el tiempo, de la siguiente manera:\n",
    "\n",
    "    o <-- o <-- o <-- o <---- o\n",
    "                ^            /\n",
    "                 \\          v\n",
    "                  --- o <-- o\n",
    "              \n",
    "Siendo esto la representacion de un *merge* entre dos branches, donde el `o` mas a la derecha es el mas reciente y es el descendiente directo de dos vertices distintos.\n",
    "\n",
    "## Objetos, content-addresing y referencias\n",
    "\n",
    "Para Git, cada blob, arbol o snapshot es un *objeto*. Cada objeto en Git es direccionado por su contenido (content-addressed). Esto quiere decir que a cada objeto se le asigna una direccion unica definida por su SHA-1 (Secure Hash Algorithm) Hash segun su contenido y luego almacena un mapeo de archivo a SHA-1 Hash. Esto tiene una serie de ventajas como:\n",
    "\n",
    "1. Deteccion de duplicados: Un archivo puede ser copiado multiples veces en un solo snapshot, a Git no le importa porque no almacena el archivo tres veces, simplemente hace referencia al mismo hash tres veces. Cuando un archivo cambia de arbol (pasa de una carpeta a otra), su SHA-1 no cambia, por lo que Git puede darse cuenta del movimiento sin rescribir nada, simplemente apuntando el hash al lugar correcto. La eliminacion de un archivo en un snapshot y la creacion de un archivo identico no genera mas overhead de almacenamiento en Git, debido a que el archivo ya se conoce y se puede encontrar en un snapshot previo.\n",
    "1. Se encuentran diferencias o cambios rapidamente, es suficiente con verificar que el SHA-1 no sea el mismo para dos objetos de mismo nombre para darse cuenta de que estos objetos son distintos.\n",
    "\n",
    "Git, teniendo una manera sencilla para identificar a cada objeto a traves de su SHA-1 Hash, tambien puede identificar a cada snapshot bajo algun nombre conveniente como \"master\", \"main\" o \"cool_new_feature\", de tal manera que un humano sea capaz de leer y entender en que snapshot se encuentra trabajando (este snapshot en particular, el \"activo\" se denomina HEAD), esta asignacion de hash a snapshot se denomina referencia.\n",
    "\n",
    "### Repositorios\n",
    "\n",
    "Un repositorio es la coleccion de objetos y referencias sobre las cuales Git ha estado rastreando cambios. Un usuario que interactua con Git interactua con el repositorio de Git, es decir que realmente la utilizacion de comandos como \"commit\" o \"add\" se transforman en una actualizacion de los objetos y referencias del repositorio y Git mantiene el control de estos cambios.\n",
    "\n",
    "## Staging Area\n",
    "Algo particularmente util de Git es la presencia de la denominada Staging Area. Realmente esta sirve como una especie de \"carrito de compras\" de cambios, es decir que un usuario puede, por ejemplo, seleccionar que partes especificas del directorio de trabaja seran almacenadas durante el commit (la toma de la foto, o el snapshot) y dejar el resto de cambios como impercibibles en la foto. La utilidad de esto es que permite que un usuario, por necesidad o cualquier otro motivo, trabaje en dos features simultaneamente y que, a la hora de hacer un commit, no tenga que hacer un solo commit para ambas features sino que puede separar y elegir a mano que cambios especificamente son los que entraran en un commit, ignorando el resto. De esta manera un desarrollador puede separar de manera mas limpia la implementacion de dos o mas features en cuantos commits requiera."
   ]
  },
  {
   "cell_type": "code",
   "execution_count": null,
   "id": "adcbb27c-f9b0-4f49-993a-ba14fee1dff2",
   "metadata": {},
   "outputs": [],
   "source": []
  }
 ],
 "metadata": {
  "kernelspec": {
   "display_name": "Python 3 (ipykernel)",
   "language": "python",
   "name": "python3"
  },
  "language_info": {
   "codemirror_mode": {
    "name": "ipython",
    "version": 3
   },
   "file_extension": ".py",
   "mimetype": "text/x-python",
   "name": "python",
   "nbconvert_exporter": "python",
   "pygments_lexer": "ipython3",
   "version": "3.9.7"
  }
 },
 "nbformat": 4,
 "nbformat_minor": 5
}
